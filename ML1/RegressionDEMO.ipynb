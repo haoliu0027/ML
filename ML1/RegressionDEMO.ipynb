{
 "cells": [
  {
   "cell_type": "code",
   "execution_count": 2,
   "metadata": {},
   "outputs": [],
   "source": [
    "import numpy as np\n",
    "x_data = [338., 333., 328., 207., 226., 25., 179., 60., 208., 606.]\n",
    "y_data = [640., 633., 619., 393., 428., 27., 193., 66., 226., 1591.]"
   ]
  },
  {
   "cell_type": "code",
   "execution_count": 3,
   "metadata": {},
   "outputs": [],
   "source": [
    "x = np.arange(-200, -100, 1)  # bias\n",
    "y = np.arange(-5, 5, 0.1)  # weight\n",
    "z = np.zeros((len(x), len(y)))\n",
    "X, Y = np.meshgrid(x, y)\n",
    "\n",
    "for i in range(len(x)):\n",
    "    for j in range(len(y)):\n",
    "        b = x[i]\n",
    "        w = y[j]\n",
    "        z[j][i] = 0\n",
    "        for n in range(len(x_data)):\n",
    "            z[j][i] = z[j][i] + (y_data[n] - b - w * x_data[n]) ** 2\n",
    "        z[j][i] = z[j][i] / len(x_data)"
   ]
  },
  {
   "cell_type": "code",
   "execution_count": null,
   "metadata": {},
   "outputs": [],
   "source": [
    "b = -120\n",
    "w = -4\n",
    "lr = 0.0000001\n",
    "iteration = 100000\n",
    "\n",
    "b_history = [b]\n",
    "w_history = [w]\n",
    "\n",
    "for i in range(iteration):\n",
    "    b_grad = 0.0\n",
    "    w_grad = 0.0\n",
    "    \n",
    "    for n in range(len(x_data)):\n",
    "        b_grad -= 2.0*(y_data[n] - b - w*x_data[n])*1.0\n",
    "        w_grad -= 2.0*(y_date[n] - b - w*x_data[n])*x_data[n]\n",
    "    b = b - lr * b_grad\n",
    "    w = w - lr * w_grad\n",
    "\n"
   ]
  }
 ],
 "metadata": {
  "kernelspec": {
   "display_name": "Python 3",
   "language": "python",
   "name": "python3"
  },
  "language_info": {
   "codemirror_mode": {
    "name": "ipython",
    "version": 3
   },
   "file_extension": ".py",
   "mimetype": "text/x-python",
   "name": "python",
   "nbconvert_exporter": "python",
   "pygments_lexer": "ipython3",
   "version": "3.7.5"
  }
 },
 "nbformat": 4,
 "nbformat_minor": 2
}
